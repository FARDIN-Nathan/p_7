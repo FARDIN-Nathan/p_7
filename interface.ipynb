{
 "cells": [
  {
   "cell_type": "code",
   "execution_count": 1,
   "metadata": {
    "id": "WD7AGB3Tb9XV"
   },
   "outputs": [],
   "source": [
    "import requests\n",
    "import pandas as pd"
   ]
  },
  {
   "cell_type": "code",
   "execution_count": 2,
   "metadata": {
    "colab": {
     "base_uri": "https://localhost:8080/"
    },
    "id": "FIhwHMdodIdv",
    "outputId": "2c85737e-d134-4b00-b141-47c1a8f53e31"
   },
   "outputs": [
    {
     "name": "stdin",
     "output_type": "stream",
     "text": [
      "Veuillez entrer un numéro client :  400958\n"
     ]
    },
    {
     "name": "stdout",
     "output_type": "stream",
     "text": [
      "Merci ! Vous avez demandé les informations pour le client : 400958.\n",
      "Elles seront bientôt disponible\n"
     ]
    }
   ],
   "source": [
    "#obtention de l'id client\n",
    "while True:\n",
    "    try:\n",
    "        id_client = int(input(\"Veuillez entrer un numéro client : \"))\n",
    "        print(f\"Merci ! Vous avez demandé les informations pour le client : {id_client}.\\nElles seront bientôt disponible\")\n",
    "        break\n",
    "    except ValueError:\n",
    "        print(\"Erreur : Veuillez entrer un id client valide (un entier).\")"
   ]
  },
  {
   "cell_type": "code",
   "execution_count": 3,
   "metadata": {
    "id": "snISbHzpeFOl"
   },
   "outputs": [],
   "source": [
    "#création de l'url de l'api\n",
    "url_api = f'https://6equal.pythonanywhere.com/predict/{id_client}'"
   ]
  },
  {
   "cell_type": "code",
   "execution_count": 4,
   "metadata": {
    "id": "hOhaIo4re39H"
   },
   "outputs": [],
   "source": [
    "#appel api\n",
    "result_api = requests.get(url_api).json()"
   ]
  },
  {
   "cell_type": "code",
   "execution_count": 5,
   "metadata": {
    "id": "J5e0EmblgElB"
   },
   "outputs": [],
   "source": [
    "# Création de variables basé sur les données de l'api\n",
    "detail= result_api[\"details\"]\n",
    "prediction = result_api[\"prediction\"]\n",
    "probability_pay = result_api[\"probability\"][\"will_pay\"]\n",
    "probability_not_pay = result_api[\"probability\"][\"will_not_pay\"]"
   ]
  },
  {
   "cell_type": "code",
   "execution_count": 6,
   "metadata": {
    "colab": {
     "base_uri": "https://localhost:8080/"
    },
    "id": "8EeNHlVvnN0Z",
    "outputId": "02e2a933-54fa-4dcb-92ab-063a9532efd5"
   },
   "outputs": [
    {
     "name": "stdout",
     "output_type": "stream",
     "text": [
      "Félicitations, le client est susceptible de rembourser le prêt selon les analyses préliminaires, vous pouvez poursuivre les démarches.\n",
      "Les probabilités que le client 400958 paye sont de 0.7512176069233596 et celle qu'il ne paye pas sont de : 0.24878239307664046\n"
     ]
    }
   ],
   "source": [
    "# affichage d'un message personnalisé\n",
    "if detail==\"grant_loan\":\n",
    "  print(\"Félicitations, le client est susceptible de rembourser le prêt selon les analyses préliminaires, vous pouvez poursuivre les démarches.\")\n",
    "elif detail==\"do_not_grant_loan\":\n",
    "  print(\"Selon nos analyses préliminaires, le client risque de ne pas rembourser son prêt veuillez le refuser ou approfondir les analyses.\")\n",
    "\n",
    "print(f'Les probabilités que le client {id_client} paye sont de {probability_pay} et celle qu\\'il ne paye pas sont de : {probability_not_pay}')"
   ]
  }
 ],
 "metadata": {
  "colab": {
   "provenance": []
  },
  "kernelspec": {
   "display_name": "Python (p_7)",
   "language": "python",
   "name": "p_7"
  },
  "language_info": {
   "codemirror_mode": {
    "name": "ipython",
    "version": 3
   },
   "file_extension": ".py",
   "mimetype": "text/x-python",
   "name": "python",
   "nbconvert_exporter": "python",
   "pygments_lexer": "ipython3",
   "version": "3.10.15"
  }
 },
 "nbformat": 4,
 "nbformat_minor": 4
}
